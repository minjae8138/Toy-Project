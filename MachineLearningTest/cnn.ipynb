{
 "cells": [
  {
   "cell_type": "code",
   "execution_count": 132,
   "metadata": {},
   "outputs": [],
   "source": [
    "from tensorflow.keras.datasets   import boston_housing\n",
    "from tensorflow.keras.models     import Sequential \n",
    "from tensorflow.keras.layers     import Activation , Dense, BatchNormalization, Dropout, Conv2D, MaxPooling2D, Flatten\n",
    "from tensorflow.keras.optimizers import SGD , Adam, RMSprop\n",
    "from tensorflow.keras.utils      import plot_model , to_categorical\n",
    "from tensorflow.keras.callbacks  import EarlyStopping, ModelCheckpoint\n",
    "\n",
    "from tensorflow.keras.wrappers.scikit_learn import KerasClassifier\n",
    "\n",
    "\n",
    "\n",
    "from sklearn.model_selection     import train_test_split\n",
    "from sklearn.preprocessing       import StandardScaler , MinMaxScaler , LabelEncoder\n",
    "from sklearn.datasets            import load_breast_cancer\n",
    "from sklearn.model_selection     import KFold\n",
    "from sklearn.ensemble import VotingClassifier\n",
    "from sklearn.metrics import accuracy_score\n",
    "\n",
    "\n",
    "import matplotlib.pyplot as plt\n",
    "\n",
    "import pandas  as pd\n",
    "import numpy   as np\n",
    "import seaborn as sns"
   ]
  },
  {
   "cell_type": "code",
   "execution_count": 133,
   "metadata": {},
   "outputs": [],
   "source": [
    "from glob import glob\n",
    "from PIL import Image "
   ]
  },
  {
   "cell_type": "code",
   "execution_count": 3,
   "metadata": {},
   "outputs": [
    {
     "data": {
      "text/plain": [
       "'C:\\\\Users\\\\82102\\\\machine_test'"
      ]
     },
     "execution_count": 3,
     "metadata": {},
     "output_type": "execute_result"
    }
   ],
   "source": [
    "pwd"
   ]
  },
  {
   "cell_type": "markdown",
   "metadata": {},
   "source": [
    "### unzip"
   ]
  },
  {
   "cell_type": "code",
   "execution_count": 2,
   "metadata": {},
   "outputs": [],
   "source": [
    "path_to_zip_file = '../machine_test/train.zip'\n",
    "directory_to_extract_to = '../machine_test'\n",
    "\n",
    "import zipfile\n",
    "with zipfile.ZipFile(path_to_zip_file, 'r') as zip_ref:\n",
    "    zip_ref.extractall(directory_to_extract_to)"
   ]
  },
  {
   "cell_type": "code",
   "execution_count": 173,
   "metadata": {},
   "outputs": [],
   "source": [
    "path_to_zip_file2 = '../machine_test/test.zip'\n",
    "directory_to_extract_to = '../machine_test'\n",
    "\n",
    "import zipfile\n",
    "with zipfile.ZipFile(path_to_zip_file2, 'r') as zip_ref:\n",
    "    zip_ref.extractall(directory_to_extract_to)"
   ]
  },
  {
   "cell_type": "markdown",
   "metadata": {},
   "source": [
    "### label 부여 및 이미지 처리"
   ]
  },
  {
   "cell_type": "code",
   "execution_count": 134,
   "metadata": {},
   "outputs": [
    {
     "name": "stdout",
     "output_type": "stream",
     "text": [
      "ok 1698\n"
     ]
    }
   ],
   "source": [
    "cate_dir = '../machine_test/train'\n",
    "categories = ['dog','elephant','giraffe','guitar','horse','house','person']\n",
    "size = len(categories)\n",
    "\n",
    "image_w = 64\n",
    "image_h = 64\n",
    "\n",
    "pixels = image_w * image_h * 3\n",
    "x = []\n",
    "y = []\n",
    "\n",
    "for idx, cat in enumerate(categories) :\n",
    "    label = [0 for i in range(size)]\n",
    "    label[idx] = 1\n",
    "#     label = idx\n",
    "    \n",
    "    image_dir = cate_dir + '/' + cat\n",
    "    files = glob(image_dir+'/*.jpg')\n",
    "    \n",
    "    for i,f in enumerate(files) :\n",
    "        img = Image.open(f)\n",
    "        img = img.convert('RGB')\n",
    "        img = img.resize((image_w, image_h))\n",
    "        data = np.asarray(img)\n",
    "        \n",
    "        x.append(data)\n",
    "        y.append(label)\n",
    "x = np.array(x)\n",
    "y = np.array(y)      \n",
    "x_train, x_test, y_train, y_test = train_test_split(x, y)\n",
    "xy = (x_train, x_test, y_train, y_test)\n",
    "np.save(\"../machine_test/multi_image_data.npy\", xy)\n",
    "print(\"ok\", len(y))"
   ]
  },
  {
   "cell_type": "code",
   "execution_count": 136,
   "metadata": {},
   "outputs": [],
   "source": [
    "import numpy as np\n",
    "x_train, x_test, y_train, y_test = np.load('../machine_test/multi_image_data.npy',allow_pickle = True)"
   ]
  },
  {
   "cell_type": "markdown",
   "metadata": {},
   "source": [
    "### split"
   ]
  },
  {
   "cell_type": "code",
   "execution_count": 118,
   "metadata": {},
   "outputs": [
    {
     "name": "stdout",
     "output_type": "stream",
     "text": [
      "1358 1358 340 340\n"
     ]
    },
    {
     "data": {
      "text/plain": [
       "((1358, 64, 64, 3), (1358, 7), (340, 64, 64, 3), (340, 7))"
      ]
     },
     "execution_count": 118,
     "metadata": {},
     "output_type": "execute_result"
    }
   ],
   "source": [
    "from sklearn.model_selection import train_test_split\n",
    "\n",
    "x_train, x_test = train_test_split(x, test_size=0.2)\n",
    "y_train, y_test = train_test_split(y, test_size=0.2)\n",
    "\n",
    "print(len(x_train), len(y_train), len(x_test), len(y_test))\n",
    "# x_train = np.array(x_train)\n",
    "# x_test = np.array(x_test)\n",
    "# y_train = np.array(y_train)\n",
    "# y_test = np.array(y_test)\n",
    "x_train.shape, y_train.shape, x_test.shape, y_test.shape"
   ]
  },
  {
   "cell_type": "code",
   "execution_count": 137,
   "metadata": {},
   "outputs": [
    {
     "data": {
      "text/plain": [
       "((1273, 64, 64, 3), (1273, 7), (425, 64, 64, 3), (425, 7))"
      ]
     },
     "execution_count": 137,
     "metadata": {},
     "output_type": "execute_result"
    }
   ],
   "source": [
    "x_train.shape, y_train.shape, x_test.shape, y_test.shape"
   ]
  },
  {
   "cell_type": "markdown",
   "metadata": {},
   "source": [
    "### 데이터 체크"
   ]
  },
  {
   "cell_type": "code",
   "execution_count": 138,
   "metadata": {},
   "outputs": [
    {
     "name": "stdout",
     "output_type": "stream",
     "text": [
      "[0 0 0 0 1 0 0]\n"
     ]
    },
    {
     "data": {
      "image/png": "[encoded data removed]",
      "text/plain": [
       "<Figure size 432x288 with 1 Axes>"
      ]
     },
     "metadata": {
      "needs_background": "light"
     },
     "output_type": "display_data"
    }
   ],
   "source": [
    "plt.imshow(x_train[10], cmap=plt.cm.binary)\n",
    "print(y_train[10])\n",
    "plt.show()"
   ]
  },
  {
   "cell_type": "code",
   "execution_count": null,
   "metadata": {},
   "outputs": [],
   "source": []
  },
  {
   "cell_type": "markdown",
   "metadata": {},
   "source": [
    "### 학습"
   ]
  },
  {
   "cell_type": "code",
   "execution_count": 139,
   "metadata": {},
   "outputs": [],
   "source": [
    "x_train = x_train.astype('float32') / 255\n",
    "x_test = x_test.astype('float32') / 255"
   ]
  },
  {
   "cell_type": "code",
   "execution_count": 140,
   "metadata": {},
   "outputs": [
    {
     "data": {
      "text/plain": [
       "((1273, 64, 64, 3), (1273, 7), (425, 64, 64, 3), (425, 7))"
      ]
     },
     "execution_count": 140,
     "metadata": {},
     "output_type": "execute_result"
    }
   ],
   "source": [
    "x_train.shape, y_train.shape, x_test.shape, y_test.shape"
   ]
  },
  {
   "cell_type": "code",
   "execution_count": 141,
   "metadata": {},
   "outputs": [],
   "source": [
    "model = Sequential()\n",
    "\n",
    "model.add(Conv2D(32,(3,3),padding=\"same\",activation='relu', input_shape=x_train.shape[1:]))\n",
    "model.add(MaxPooling2D(pool_size=(2,2)))\n",
    "model.add(Dropout(0.25))\n",
    "\n",
    "model.add(Conv2D(64,(3,3),padding=\"same\",activation='relu'))\n",
    "model.add(MaxPooling2D(pool_size=(2,2)))\n",
    "model.add(Dropout(0.25)) \n",
    "\n",
    "model.add(Flatten())\n",
    "model.add(Dense(128,activation='relu'))\n",
    "model.add(Dropout(0.5))\n",
    "model.add(Dense(size,activation='softmax'))\n",
    "          \n",
    "# optimizer = SGD(learning_rate=0.01)\n",
    "model.compile(optimizer = 'adam', \n",
    "              loss      = 'categorical_crossentropy' , \n",
    "              metrics   = ['accuracy'] ) \n",
    "model_path = ''\n",
    "checkpoint = ModelCheckpoint(filepath=model_path, monitor='val_loss', verbose=1, save_best_only=True)\n",
    "early_stopping = EarlyStopping(monitor='val_loss', patience=7)"
   ]
  },
  {
   "cell_type": "code",
   "execution_count": 82,
   "metadata": {},
   "outputs": [],
   "source": [
    "model = Sequential()\n",
    "\n",
    "model.add(Conv2D(32,(3,3),padding=\"same\",activation='relu', input_shape=x_train.shape[1:]))\n",
    "model.add(MaxPooling2D(pool_size=(2,2)))\n",
    "model.add(Dropout(0.25))\n",
    "\n",
    "model.add(Conv2D(64,(3,3),padding=\"same\",activation='relu'))\n",
    "model.add(MaxPooling2D(pool_size=(2,2)))\n",
    "model.add(Dropout(0.25)) \n",
    "\n",
    "model.add(Flatten())\n",
    "model.add(Dense(128,activation='relu'))\n",
    "model.add(Dropout(0.5))\n",
    "model.add(Dense(size,activation='softmax'))\n",
    "          \n",
    "# optimizer = SGD(learning_rate=0.01)\n",
    "model.compile(optimizer = 'adam', \n",
    "              loss      = 'categorical_crossentropy' , \n",
    "              metrics   = ['accuracy'] ) \n",
    "model_path = ''\n",
    "checkpoint = ModelCheckpoint(filepath=model_path, monitor='val_loss', verbose=1, save_best_only=True)\n",
    "early_stopping = EarlyStopping(monitor='val_loss', patience=7)\n",
    "\n",
    "\n",
    "\n"
   ]
  },
  {
   "cell_type": "code",
   "execution_count": 142,
   "metadata": {},
   "outputs": [
    {
     "name": "stdout",
     "output_type": "stream",
     "text": [
      "Train on 1273 samples, validate on 425 samples\n",
      "Epoch 1/100\n",
      "1216/1273 [===========================>..] - ETA: 0s - loss: 2.0453 - accuracy: 0.1982\n",
      "Epoch 00001: val_loss improved from inf to 1.92932, saving model to \n",
      "INFO:tensorflow:Assets written to: assets\n",
      "1273/1273 [==============================] - 12s 9ms/sample - loss: 2.0385 - accuracy: 0.2050 - val_loss: 1.9293 - val_accuracy: 0.2400\n",
      "Epoch 2/100\n",
      "1216/1273 [===========================>..] - ETA: 0s - loss: 1.8958 - accuracy: 0.2319\n",
      "Epoch 00002: val_loss improved from 1.92932 to 1.91560, saving model to \n",
      "INFO:tensorflow:Assets written to: assets\n",
      "1273/1273 [==============================] - 10s 8ms/sample - loss: 1.8967 - accuracy: 0.2294 - val_loss: 1.9156 - val_accuracy: 0.2447\n",
      "Epoch 3/100\n",
      "1216/1273 [===========================>..] - ETA: 0s - loss: 1.8671 - accuracy: 0.2467\n",
      "Epoch 00003: val_loss improved from 1.91560 to 1.87540, saving model to \n",
      "INFO:tensorflow:Assets written to: assets\n",
      "1273/1273 [==============================] - 9s 7ms/sample - loss: 1.8659 - accuracy: 0.2490 - val_loss: 1.8754 - val_accuracy: 0.2588\n",
      "Epoch 4/100\n",
      "1216/1273 [===========================>..] - ETA: 0s - loss: 1.8111 - accuracy: 0.2854\n",
      "Epoch 00004: val_loss improved from 1.87540 to 1.83346, saving model to \n",
      "INFO:tensorflow:Assets written to: assets\n",
      "1273/1273 [==============================] - 9s 7ms/sample - loss: 1.8100 - accuracy: 0.2812 - val_loss: 1.8335 - val_accuracy: 0.2518\n",
      "Epoch 5/100\n",
      "1216/1273 [===========================>..] - ETA: 0s - loss: 1.7717 - accuracy: 0.3141\n",
      "Epoch 00005: val_loss improved from 1.83346 to 1.81035, saving model to \n",
      "INFO:tensorflow:Assets written to: assets\n",
      "1273/1273 [==============================] - 9s 7ms/sample - loss: 1.7704 - accuracy: 0.3119 - val_loss: 1.8104 - val_accuracy: 0.3459\n",
      "Epoch 6/100\n",
      "1216/1273 [===========================>..] - ETA: 0s - loss: 1.7277 - accuracy: 0.3183\n",
      "Epoch 00006: val_loss improved from 1.81035 to 1.75091, saving model to \n",
      "INFO:tensorflow:Assets written to: assets\n",
      "1273/1273 [==============================] - 10s 8ms/sample - loss: 1.7241 - accuracy: 0.3174 - val_loss: 1.7509 - val_accuracy: 0.3459\n",
      "Epoch 7/100\n",
      "1216/1273 [===========================>..] - ETA: 0s - loss: 1.6543 - accuracy: 0.3758\n",
      "Epoch 00007: val_loss improved from 1.75091 to 1.72283, saving model to \n",
      "INFO:tensorflow:Assets written to: assets\n",
      "1273/1273 [==============================] - 10s 8ms/sample - loss: 1.6588 - accuracy: 0.3716 - val_loss: 1.7228 - val_accuracy: 0.3694\n",
      "Epoch 8/100\n",
      "1216/1273 [===========================>..] - ETA: 0s - loss: 1.5953 - accuracy: 0.4005\n",
      "Epoch 00008: val_loss improved from 1.72283 to 1.65476, saving model to \n",
      "INFO:tensorflow:Assets written to: assets\n",
      "1273/1273 [==============================] - 9s 7ms/sample - loss: 1.5899 - accuracy: 0.4038 - val_loss: 1.6548 - val_accuracy: 0.4000\n",
      "Epoch 9/100\n",
      "1216/1273 [===========================>..] - ETA: 0s - loss: 1.5372 - accuracy: 0.4169\n",
      "Epoch 00009: val_loss improved from 1.65476 to 1.65002, saving model to \n",
      "INFO:tensorflow:Assets written to: assets\n",
      "1273/1273 [==============================] - 10s 8ms/sample - loss: 1.5376 - accuracy: 0.4156 - val_loss: 1.6500 - val_accuracy: 0.4047\n",
      "Epoch 10/100\n",
      "1216/1273 [===========================>..] - ETA: 0s - loss: 1.4730 - accuracy: 0.4457\n",
      "Epoch 00010: val_loss improved from 1.65002 to 1.59547, saving model to \n",
      "INFO:tensorflow:Assets written to: assets\n",
      "1273/1273 [==============================] - 10s 8ms/sample - loss: 1.4701 - accuracy: 0.4462 - val_loss: 1.5955 - val_accuracy: 0.3976\n",
      "Epoch 11/100\n",
      "1216/1273 [===========================>..] - ETA: 0s - loss: 1.3917 - accuracy: 0.4753\n",
      "Epoch 00011: val_loss did not improve from 1.59547\n",
      "1273/1273 [==============================] - 9s 7ms/sample - loss: 1.3927 - accuracy: 0.4753 - val_loss: 1.5995 - val_accuracy: 0.4024\n",
      "Epoch 12/100\n",
      "1216/1273 [===========================>..] - ETA: 0s - loss: 1.3316 - accuracy: 0.5049\n",
      "Epoch 00012: val_loss improved from 1.59547 to 1.54159, saving model to \n",
      "INFO:tensorflow:Assets written to: assets\n",
      "1273/1273 [==============================] - 12s 9ms/sample - loss: 1.3361 - accuracy: 0.5075 - val_loss: 1.5416 - val_accuracy: 0.4235\n",
      "Epoch 13/100\n",
      "1216/1273 [===========================>..] - ETA: 0s - loss: 1.2838 - accuracy: 0.5444\n",
      "Epoch 00013: val_loss improved from 1.54159 to 1.53052, saving model to \n",
      "INFO:tensorflow:Assets written to: assets\n",
      "1273/1273 [==============================] - 12s 9ms/sample - loss: 1.2907 - accuracy: 0.5444 - val_loss: 1.5305 - val_accuracy: 0.4118\n",
      "Epoch 14/100\n",
      "1216/1273 [===========================>..] - ETA: 0s - loss: 1.2032 - accuracy: 0.5510\n",
      "Epoch 00014: val_loss improved from 1.53052 to 1.53037, saving model to \n",
      "INFO:tensorflow:Assets written to: assets\n",
      "1273/1273 [==============================] - 11s 9ms/sample - loss: 1.1965 - accuracy: 0.5530 - val_loss: 1.5304 - val_accuracy: 0.4071\n",
      "Epoch 15/100\n",
      "1216/1273 [===========================>..] - ETA: 0s - loss: 1.1121 - accuracy: 0.5905\n",
      "Epoch 00015: val_loss improved from 1.53037 to 1.51271, saving model to \n",
      "INFO:tensorflow:Assets written to: assets\n",
      "1273/1273 [==============================] - 9s 7ms/sample - loss: 1.1100 - accuracy: 0.5915 - val_loss: 1.5127 - val_accuracy: 0.4212\n",
      "Epoch 16/100\n",
      "1216/1273 [===========================>..] - ETA: 0s - loss: 1.0714 - accuracy: 0.6127\n",
      "Epoch 00016: val_loss did not improve from 1.51271\n",
      "1273/1273 [==============================] - 8s 6ms/sample - loss: 1.0773 - accuracy: 0.6159 - val_loss: 1.5299 - val_accuracy: 0.4424\n",
      "Epoch 17/100\n",
      "1216/1273 [===========================>..] - ETA: 0s - loss: 0.9888 - accuracy: 0.6464\n",
      "Epoch 00017: val_loss did not improve from 1.51271\n",
      "1273/1273 [==============================] - 8s 6ms/sample - loss: 0.9892 - accuracy: 0.6449 - val_loss: 1.5384 - val_accuracy: 0.4447\n",
      "Epoch 18/100\n",
      "1216/1273 [===========================>..] - ETA: 0s - loss: 0.9520 - accuracy: 0.6612\n",
      "Epoch 00018: val_loss did not improve from 1.51271\n",
      "1273/1273 [==============================] - 8s 6ms/sample - loss: 0.9524 - accuracy: 0.6606 - val_loss: 1.5365 - val_accuracy: 0.4165\n",
      "Epoch 19/100\n",
      "1216/1273 [===========================>..] - ETA: 0s - loss: 0.8467 - accuracy: 0.7097\n",
      "Epoch 00019: val_loss did not improve from 1.51271\n",
      "1273/1273 [==============================] - 8s 6ms/sample - loss: 0.8443 - accuracy: 0.7078 - val_loss: 1.6076 - val_accuracy: 0.4353\n",
      "Epoch 20/100\n",
      "1216/1273 [===========================>..] - ETA: 0s - loss: 0.8209 - accuracy: 0.6998\n",
      "Epoch 00020: val_loss did not improve from 1.51271\n",
      "1273/1273 [==============================] - 8s 6ms/sample - loss: 0.8223 - accuracy: 0.6976 - val_loss: 1.5782 - val_accuracy: 0.4400\n",
      "Epoch 21/100\n",
      "1216/1273 [===========================>..] - ETA: 0s - loss: 0.7937 - accuracy: 0.7023\n",
      "Epoch 00021: val_loss did not improve from 1.51271\n",
      "1273/1273 [==============================] - 8s 6ms/sample - loss: 0.7884 - accuracy: 0.7062 - val_loss: 1.6705 - val_accuracy: 0.4259\n",
      "Epoch 22/100\n",
      "1216/1273 [===========================>..] - ETA: 0s - loss: 0.7091 - accuracy: 0.7426\n",
      "Epoch 00022: val_loss did not improve from 1.51271\n",
      "1273/1273 [==============================] - 8s 6ms/sample - loss: 0.7043 - accuracy: 0.7455 - val_loss: 1.7346 - val_accuracy: 0.4188\n"
     ]
    }
   ],
   "source": [
    "history = model.fit(x_train, y_train, batch_size=64, epochs=100, validation_data=(x_test, y_test), callbacks=[checkpoint, early_stopping],use_multiprocessing=True)"
   ]
  },
  {
   "cell_type": "code",
   "execution_count": 143,
   "metadata": {},
   "outputs": [
    {
     "name": "stdout",
     "output_type": "stream",
     "text": [
      "\r",
      "425/1 [==============================================================================================================================================================================================================================================================================================================================================================================================================================================================================================================================================================================================================================================================================================================================================================================================================================================================================================================================================================================================================================================================================================================================================================================================================================================================================================================================================================================================================================================================================================================================================================================================================================================================================================================================================================================================================================================================================================================================================================================================================================================================================================================================================================================================================================================================================================================================================================================================================================================================================================================================================================================================================================================================================================================================================================================================================================================================================================================================================================================================================================================================================================================================================================================================================================================================================================================================================================================================================================================================================================================================================================================================================================================================================================================================================================================================================================================================================================================================================================================================================================================================================================================================================================================================================================================================================================================================================================================================================================================================================================================================================================================================================================================================================================================================================================================================================================================================================================================================================================================================================================================================================================================================================================================================================================================================================================================================================================================================================================================================================================================================================================================================================================================================================================================================================================================================================================================================================================================================================================================================================================================================================================================================================================================================================================================================================================================================================================================================================================================================================================================================================================================================================================================================================================================================================================================================================================================================================================================================================================================================================================================================================================================================================================================================================================================================================================================================================================================================================================================================================================================================================================================================================================================================================================================================================================================================================================================================================================================================================================================================================================================================================================================================================================================================================================================================================================================================================================================================================================================================================================================================================================================================================================================================================================================================================================================================================================================================================================================================================================================================================================================================================================================================================================================================================================================================================================================================================================================================================================================================================================================================================================================================================================================================================================================================================================================================================================================================================================================================================================================================================================================================================================================================================================================================================================================================================================================================================================================================================================================================================================================================================================================================================================================================================================================================================================================================================================================================================================================================================================================================================================================================================================================================================================================================================================================================================================================================================================================================================================================================================================================================================================================================================================================================================================================================================================================================================================================================================================================================================================================================================================================================================================================================================================================================================================================================================================================================================================================================================================================================================================================================================================================================================================================================================================================================================================================================================================================================================================================================================================================================================================================================================================================================================================================================================================================================================] - 1s 1ms/sample - loss: 2.2577 - accuracy: 0.4188\n"
     ]
    },
    {
     "name": "stdout",
     "output_type": "stream",
     "text": [
      "[1.7346292164746453, 0.41882354]\n",
      "accuracy :  0.41882354\n"
     ]
    }
   ],
   "source": [
    "result = model.evaluate(x_test, y_test)\n",
    "print(result)\n",
    "print(\"accuracy : \", result[1])"
   ]
  },
  {
   "cell_type": "code",
   "execution_count": 144,
   "metadata": {},
   "outputs": [
    {
     "data": {
      "image/png": "[encoded data removed]",
      "text/plain": [
       "<Figure size 432x288 with 1 Axes>"
      ]
     },
     "metadata": {
      "needs_background": "light"
     },
     "output_type": "display_data"
    }
   ],
   "source": [
    "plt.plot(history.history['loss'])\n",
    "plt.plot(history.history['val_loss'])\n",
    "plt.plot(history.history['accuracy'])\n",
    "plt.title('model loss')\n",
    "plt.ylabel('loss')\n",
    "plt.xlabel('epoch')\n",
    "plt.legend(['loss', 'val_loss', 'acc', 'val_acc'], loc='upper left')\n",
    "plt.show()"
   ]
  },
  {
   "cell_type": "markdown",
   "metadata": {},
   "source": [
    "### 테스트"
   ]
  },
  {
   "cell_type": "code",
   "execution_count": 145,
   "metadata": {},
   "outputs": [],
   "source": [
    "import tensorflow as tf"
   ]
  },
  {
   "cell_type": "code",
   "execution_count": 146,
   "metadata": {},
   "outputs": [],
   "source": [
    "seed = 5\n",
    "tf.random.set_seed(seed)\n",
    "np.random.seed(seed)\n",
    "\n",
    "caltech_dir = 'test/0'\n",
    "\n",
    "\n",
    "image_w = 64\n",
    "image_h = 64\n",
    "\n",
    "pixels = image_h * image_w * 3\n",
    "\n",
    "X = []\n",
    "filenames = []\n",
    "files = glob(caltech_dir+\"/*.jpg\")\n",
    "for i, f in enumerate(files):\n",
    "    img = Image.open(f)\n",
    "    img = img.convert(\"RGB\")\n",
    "    img = img.resize((image_w, image_h))\n",
    "    data = np.asarray(img)\n",
    "\n",
    "    filenames.append(f)\n",
    "    X.append(data)\n",
    "\n",
    "\n",
    "X = np.array(X)\n",
    "X = X.astype(float) / 255\n",
    "\n",
    "# print(X)\n",
    "prediction = model.predict_classes(X)\n",
    "cnt = 0\n",
    "final = []\n",
    "for i in prediction:\n",
    "    final.append(i)"
   ]
  },
  {
   "cell_type": "markdown",
   "metadata": {},
   "source": [
    "### 결과값 csv로 저장"
   ]
  },
  {
   "cell_type": "code",
   "execution_count": 147,
   "metadata": {},
   "outputs": [],
   "source": [
    "df = pd.DataFrame(final)"
   ]
  },
  {
   "cell_type": "code",
   "execution_count": 148,
   "metadata": {},
   "outputs": [],
   "source": [
    "df.columns = ['answer value']"
   ]
  },
  {
   "cell_type": "code",
   "execution_count": 150,
   "metadata": {},
   "outputs": [
    {
     "data": {
      "text/html": [
       "<div>\n",
       "<style scoped>\n",
       "    .dataframe tbody tr th:only-of-type {\n",
       "        vertical-align: middle;\n",
       "    }\n",
       "\n",
       "    .dataframe tbody tr th {\n",
       "        vertical-align: top;\n",
       "    }\n",
       "\n",
       "    .dataframe thead th {\n",
       "        text-align: right;\n",
       "    }\n",
       "</style>\n",
       "<table border=\"1\" class=\"dataframe\">\n",
       "  <thead>\n",
       "    <tr style=\"text-align: right;\">\n",
       "      <th></th>\n",
       "      <th>answer value</th>\n",
       "    </tr>\n",
       "  </thead>\n",
       "  <tbody>\n",
       "    <tr>\n",
       "      <td>0</td>\n",
       "      <td>6</td>\n",
       "    </tr>\n",
       "    <tr>\n",
       "      <td>1</td>\n",
       "      <td>6</td>\n",
       "    </tr>\n",
       "    <tr>\n",
       "      <td>2</td>\n",
       "      <td>0</td>\n",
       "    </tr>\n",
       "    <tr>\n",
       "      <td>3</td>\n",
       "      <td>0</td>\n",
       "    </tr>\n",
       "    <tr>\n",
       "      <td>4</td>\n",
       "      <td>6</td>\n",
       "    </tr>\n",
       "    <tr>\n",
       "      <td>...</td>\n",
       "      <td>...</td>\n",
       "    </tr>\n",
       "    <tr>\n",
       "      <td>345</td>\n",
       "      <td>6</td>\n",
       "    </tr>\n",
       "    <tr>\n",
       "      <td>346</td>\n",
       "      <td>0</td>\n",
       "    </tr>\n",
       "    <tr>\n",
       "      <td>347</td>\n",
       "      <td>6</td>\n",
       "    </tr>\n",
       "    <tr>\n",
       "      <td>348</td>\n",
       "      <td>0</td>\n",
       "    </tr>\n",
       "    <tr>\n",
       "      <td>349</td>\n",
       "      <td>0</td>\n",
       "    </tr>\n",
       "  </tbody>\n",
       "</table>\n",
       "<p>350 rows × 1 columns</p>\n",
       "</div>"
      ],
      "text/plain": [
       "     answer value\n",
       "0               6\n",
       "1               6\n",
       "2               0\n",
       "3               0\n",
       "4               6\n",
       "..            ...\n",
       "345             6\n",
       "346             0\n",
       "347             6\n",
       "348             0\n",
       "349             0\n",
       "\n",
       "[350 rows x 1 columns]"
      ]
     },
     "execution_count": 150,
     "metadata": {},
     "output_type": "execute_result"
    }
   ],
   "source": [
    "df"
   ]
  },
  {
   "cell_type": "code",
   "execution_count": 152,
   "metadata": {},
   "outputs": [],
   "source": [
    "df.to_csv(\"test_answer.csv\")"
   ]
  },
  {
   "cell_type": "code",
   "execution_count": null,
   "metadata": {},
   "outputs": [],
   "source": []
  },
  {
   "cell_type": "code",
   "execution_count": null,
   "metadata": {},
   "outputs": [],
   "source": []
  }
 ],
 "metadata": {
  "kernelspec": {
   "display_name": "Python 3",
   "language": "python",
   "name": "python3"
  },
  "language_info": {
   "codemirror_mode": {
    "name": "ipython",
    "version": 3
   },
   "file_extension": ".py",
   "mimetype": "text/x-python",
   "name": "python",
   "nbconvert_exporter": "python",
   "pygments_lexer": "ipython3",
   "version": "3.7.4"
  }
 },
 "nbformat": 4,
 "nbformat_minor": 2
}
